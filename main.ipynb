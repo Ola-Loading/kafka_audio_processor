{
 "cells": [
  {
   "cell_type": "code",
   "execution_count": null,
   "metadata": {},
   "outputs": [],
   "source": [
    "from consumer.consumer import main_consumer\n",
    "from producer.producer import record_audio_as_wav\n",
    "import time\n",
    "from multiprocessing import Process\n",
    "\n",
    "\n",
    "# if __name__ == \"__main__\":\n",
    "consumer_process = Process(target=main_consumer)\n",
    "consumer_process.start()\n",
    "\n",
    "time.sleep(2)  # Ensure the consumer starts first\n",
    "record_audio_as_wav()\n",
    "\n",
    "consumer_process.join()"
   ]
  }
 ],
 "metadata": {
  "language_info": {
   "name": "python"
  }
 },
 "nbformat": 4,
 "nbformat_minor": 2
}
