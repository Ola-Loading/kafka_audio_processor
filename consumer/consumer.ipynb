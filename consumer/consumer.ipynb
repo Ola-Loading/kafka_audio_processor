{
 "cells": [
  {
   "cell_type": "code",
   "execution_count": 10,
   "metadata": {},
   "outputs": [],
   "source": [
    "from kafka import KafkaConsumer\n",
    "import os\n",
    "import wave\n",
    "from pydub import AudioSegment\n",
    "from pydub.playback import play\n",
    "import pyaudio\n",
    "import whisper\n",
    "import deepl\n",
    "from dotenv import load_dotenv\n",
    "import os\n",
    "import detectlanguage \n",
    "\n",
    "\n",
    "\n",
    "\n",
    "def consume_audio_stream(topic='audio_events', output_file='received_audio.wav'):\n",
    "    \"\"\"\n",
    "    Consumes audio chunks from Kafka and reconstructs the audio file as WAV.\n",
    "    \n",
    "    :param topic: Kafka topic to consume audio data from.\n",
    "    :param output_file: Path to save the reassembled WAV file.\n",
    "    \"\"\"\n",
    "    sample_format = pyaudio.paInt16  # 16-bit format\n",
    "    channels = 2  # Stereo\n",
    "    fs = 44100  # Sample rate (CD quality)\n",
    "\n",
    "    consumer = KafkaConsumer(\n",
    "        topic,\n",
    "        bootstrap_servers='localhost:9092',\n",
    "        auto_offset_reset='latest',  # Start from the latest messages\n",
    "        enable_auto_commit=True,\n",
    "    )\n",
    "\n",
    "    print(\"Listening for audio chunks...\")\n",
    "    p = pyaudio.PyAudio()\n",
    "    frames = []\n",
    "\n",
    "    oneanddone = 0\n",
    "\n",
    "    for message in consumer:\n",
    "        if oneanddone > 0:\n",
    "            break\n",
    "        else:\n",
    "            frames.append(message.value)\n",
    "            print(f\"Received chunk of size {len(message.value)} bytes\")\n",
    "            oneanddone+=1\n",
    "            break\n",
    "\n",
    "    # Save to WAV file\n",
    "    with wave.open(output_file, 'wb') as wf:\n",
    "        wf.setnchannels(channels)\n",
    "        wf.setsampwidth(p.get_sample_size(sample_format))\n",
    "        wf.setframerate(fs)\n",
    "        wf.writeframes(b''.join(frames))\n",
    "\n",
    "    print(f\"Audio file reconstructed: {output_file}\")\n",
    "    return output_file\n",
    "\n",
    "\n",
    "def play_audio_transcribe(file_path):\n",
    "    \"\"\"Converts WAV to MP3, deletes WAV, plays MP3, and transcribes.\"\"\"\n",
    "    \n",
    "    # Ensure correct MP3 filename\n",
    "    mp3_file = os.path.splitext(file_path)[0] + \".mp3\"\n",
    "\n",
    "    # Convert WAV to MP3\n",
    "    try:\n",
    "        sound = AudioSegment.from_wav(file_path)\n",
    "        play(sound)\n",
    "        sound.export(mp3_file, format=\"mp3\")\n",
    "        # os.remove(file_path)  # Delete WAV file after conversion\n",
    "        print(f\"Recording saved as {mp3_file}\")\n",
    "        print(f\"Recording deleted: {file_path}\")\n",
    "\n",
    "        # Play MP3\n",
    "        # audio = AudioSegment.from_mp3(mp3_file)\n",
    "        # play(audio)\n",
    "\n",
    "        # Transcribe using Whisper (optional)\n",
    "        model = whisper.load_model(\"base\")\n",
    "        result = model.transcribe(mp3_file)\n",
    "        print(\"Transcription:\", result[\"text\"])\n",
    "        \n",
    "\n",
    "        return (mp3_file,result)\n",
    "\n",
    "    except Exception as e:\n",
    "        print(f\"Error processing audio: {e}\")\n",
    "        return str(e)\n",
    "\n",
    "def translate_text(result):\n",
    "    \"\"\"Translates transcribed text into multiple languages.\"\"\"\n",
    "    load_dotenv()  # Loads variables from .env\n",
    "    auth_key = os.getenv(\"DEEPL_AUTH_KEY\")\n",
    "    deepl_client = deepl.DeepLClient(auth_key)\n",
    "    detectlanguage.configuration.api_key = os.getenv(\"DETECT_LANG_KEY\")\n",
    "    language_dict = {'l1':'EN-GB','l2':'FR','l3':'PT-BR'}\n",
    "    clone = dict(language_dict)\n",
    "    detected_langs = detectlanguage.detect(result[\"text\"])\n",
    "    detected_lang = max(detected_langs, key=lambda x: x['confidence'])['language'].upper()\n",
    "    \n",
    "    try:\n",
    "        # Remove detected language from translation list\n",
    "        language_dict = {k: v for k, v in language_dict.items() if detected_lang not in v}\n",
    "        \n",
    "        translated = []\n",
    "        for lang_code in language_dict.values():\n",
    "            translated_text = deepl_client.translate_text(result[\"text\"], target_lang=lang_code)\n",
    "            translated.append((lang_code, translated_text))\n",
    "            print(f\"Translation ({lang_code}): {translated_text}\")\n",
    "        \n",
    "        return translated\n",
    "    except Exception as e:\n",
    "        return str(e)\n",
    "\n",
    "\n",
    "    \n",
    "\n",
    "# Example usage\n",
    "def main():\n",
    "    wav_file = consume_audio_stream()  # Receive and reconstruct audio\n",
    "    playable_audio = play_audio_transcribe(wav_file)  # Convert, play, and transcribe\n",
    "    translate_text(playable_audio[1])\n",
    "\n"
   ]
  },
  {
   "cell_type": "code",
   "execution_count": 11,
   "metadata": {},
   "outputs": [
    {
     "name": "stdout",
     "output_type": "stream",
     "text": [
      "Listening for audio chunks...\n",
      "Received chunk of size 114354 bytes\n",
      "Audio file reconstructed: received_audio.wav\n",
      "Recording saved as received_audio.mp3\n",
      "Recording deleted: received_audio.wav\n"
     ]
    },
    {
     "name": "stderr",
     "output_type": "stream",
     "text": [
      "/Users/olaogunade/Documents/GitHub/kafka_audio_processor/kafka_py_venv/lib/python3.9/site-packages/whisper/transcribe.py:126: UserWarning: FP16 is not supported on CPU; using FP32 instead\n",
      "  warnings.warn(\"FP16 is not supported on CPU; using FP32 instead\")\n"
     ]
    },
    {
     "name": "stdout",
     "output_type": "stream",
     "text": [
      "Transcription:  One day I went to Little, I went to shop with Little and then I got to a little, so I don't forget to little.\n",
      "Translation (FR):  Un jour, je suis allée chez Little, j'ai fait des courses avec Little et puis je suis arrivée chez Little, alors je n'oublie pas Little.\n",
      "Translation (PT-BR):  Um dia fui ao Little, fui fazer compras com o Little e depois cheguei a um pouco, então não me esqueço do Little.\n"
     ]
    }
   ],
   "source": [
    "main()"
   ]
  },
  {
   "cell_type": "code",
   "execution_count": null,
   "metadata": {},
   "outputs": [
    {
     "name": "stdout",
     "output_type": "stream",
     "text": [
      "Character usage: 1461 of 500000\n"
     ]
    }
   ],
   "source": [
    "import deepl\n",
    "import os \n",
    "from dotenv import load_dotenv\n",
    "load_dotenv()  # Loads variables from .env\n",
    "auth_key = os.getenv(\"DEEPL_AUTH_KEY\")\n",
    "deepl_client = deepl.DeepLClient(auth_key)\n",
    "usage = deepl_client.get_usage()\n",
    "if usage.any_limit_reached:\n",
    "    print('Translation limit reached.')\n",
    "if usage.character.valid:\n",
    "    print(\n",
    "        f\"Character usage: {usage.character.count} of {usage.character.limit}\")\n",
    "if usage.document.valid:\n",
    "    print(f\"Document usage: {usage.document.count} of {usage.document.limit}\")\n"
   ]
  }
 ],
 "metadata": {
  "kernelspec": {
   "display_name": "kafka_py_venv",
   "language": "python",
   "name": "python3"
  },
  "language_info": {
   "codemirror_mode": {
    "name": "ipython",
    "version": 3
   },
   "file_extension": ".py",
   "mimetype": "text/x-python",
   "name": "python",
   "nbconvert_exporter": "python",
   "pygments_lexer": "ipython3",
   "version": "3.9.4"
  }
 },
 "nbformat": 4,
 "nbformat_minor": 2
}
